{
 "cells": [
  {
   "cell_type": "markdown",
   "id": "positive-builder",
   "metadata": {},
   "source": [
    "### Source code"
   ]
  },
  {
   "cell_type": "code",
   "execution_count": 9,
   "id": "finished-delay",
   "metadata": {},
   "outputs": [],
   "source": [
    "# Encrpt the message\n",
    "def MTC_encrp(key, text):\n",
    "        \n",
    "    # modify key\n",
    "    new_key = key.replace('(',\"\").replace(')',\"\").split(',')\n",
    "    new_key  = [int(i) for i in new_key]\n",
    "    \n",
    "    #modify text\n",
    "    plaintext = text\n",
    "    \n",
    "    # Add %\n",
    "    if (len(text)%max(new_key)) != 0:\n",
    "        \n",
    "        plaintext += \"%\"*(max(new_key)-(len(text)%max(new_key)))\n",
    "    \n",
    "    row = len(plaintext)//max(new_key)\n",
    "    col = max(new_key)\n",
    "    \n",
    "    temp = list()\n",
    "    for i in range(row):\n",
    "        temp.append(list(plaintext[i*col:(i+1)*col]))\n",
    "    \n",
    "    # Print results in order\n",
    "    temp = np.asarray(temp)\n",
    "    result = list()\n",
    "    for i in new_key:\n",
    "        result += temp[:,(i-1)].tolist()\n",
    "    \n",
    "    return \"\".join(result)\n",
    "\n",
    "\n",
    "# Decrypt process\n",
    "def MTC_decrp(key, text):\n",
    "    \n",
    "    encrp_text = text\n",
    "    \n",
    "    # Modify the key\n",
    "    new_key = key.replace('(',\"\").replace(')',\"\").split(',')\n",
    "    new_key  = [int(i) for i in new_key]\n",
    "\n",
    "    row = len(encrp_text)//max(new_key)\n",
    "    col = max(new_key)\n",
    "    \n",
    "    #Modify the input\n",
    "    temp = list()\n",
    "    for i in range(col):\n",
    "        temp.append(list(encrp_text[i*row:(i+1)*row]))\n",
    "\n",
    "    temp = np.asarray(temp).T\n",
    "    \n",
    "    # Add to the proper order\n",
    "    result = list()\n",
    "    for i in range(col):\n",
    "        result.append(temp[:,new_key.index(i+1)])\n",
    "        \n",
    "    result = np.asarray(result).T\n",
    "    \n",
    "    # Print the results \n",
    "    decrpt_msg = list()\n",
    "    for i in result:\n",
    "        decrpt_msg += i.tolist()\n",
    "    \n",
    "    final_meg=\"\"\n",
    "    return final_meg.join(decrpt_msg)"
   ]
  },
  {
   "cell_type": "markdown",
   "id": "employed-consequence",
   "metadata": {},
   "source": [
    "## Here are examples from the lectures"
   ]
  },
  {
   "cell_type": "code",
   "execution_count": 10,
   "id": "streaming-bhutan",
   "metadata": {},
   "outputs": [
    {
     "name": "stdout",
     "output_type": "stream",
     "text": [
      "Encrypt process\n",
      "Key:  (4,3,2,1,5)  Plaintext:  I%really%enjoy%coding\n",
      "The encrypt message:  e%yi%ryod%%ljo%Ilncgae%n%\n"
     ]
    }
   ],
   "source": [
    "key = \"(4,3,2,1,5)\"\n",
    "msg = \"I%really%enjoy%coding\"\n",
    "\n",
    "print(\"Encrypt process\")\n",
    "encrpt_msg = MTC_encrp(key, msg)\n",
    "print(\"Key: \",key,\" Plaintext: \", msg)\n",
    "print(\"The encrypt message: \",encrpt_msg)"
   ]
  },
  {
   "cell_type": "code",
   "execution_count": 11,
   "id": "intelligent-cheat",
   "metadata": {},
   "outputs": [
    {
     "name": "stdout",
     "output_type": "stream",
     "text": [
      "Decrypt process\n",
      "Key:  (4,3,2,1,5)  Encrypt message:  e%yi%ryod%%ljo%Ilncgae%n%\n",
      "The plaintext:  I%really%enjoy%coding%%%%\n"
     ]
    }
   ],
   "source": [
    "key = \"(4,3,2,1,5)\"\n",
    "encrpt_msg = \"e%yi%ryod%%ljo%Ilncgae%n%\"\n",
    "\n",
    "print(\"Decrypt process\")\n",
    "plaintext = MTC_decrp(key,encrpt_msg)\n",
    "print(\"Key: \",key,\" Encrypt message: \",encrpt_msg)\n",
    "print(\"The plaintext: \",plaintext)"
   ]
  },
  {
   "cell_type": "code",
   "execution_count": 12,
   "id": "continuous-smile",
   "metadata": {},
   "outputs": [
    {
     "name": "stdout",
     "output_type": "stream",
     "text": [
      "Encrypt process\n",
      "Key:  (3,4,1,2)  Plaintext:  you%guessed%it!\n",
      "The encrypt message:  ued!%s%%ygsiouet\n"
     ]
    }
   ],
   "source": [
    "key = \"(3,4,1,2)\"\n",
    "msg = \"you%guessed%it!\"\n",
    "\n",
    "print(\"Encrypt process\")\n",
    "encrpt_msg = MTC_encrp(key, msg)\n",
    "print(\"Key: \",key,\" Plaintext: \", msg)\n",
    "print(\"The encrypt message: \",encrpt_msg)"
   ]
  },
  {
   "cell_type": "code",
   "execution_count": 13,
   "id": "associate-quantity",
   "metadata": {},
   "outputs": [
    {
     "name": "stdout",
     "output_type": "stream",
     "text": [
      "Decrypt process\n",
      "Key:  (5,4,1,2,3)  Encrypt message:  rsiet%u!rsi%sietcyetcyu!cyu!r%\n",
      "The plaintext:  security!security!security!%%%\n"
     ]
    }
   ],
   "source": [
    "key = \"(5,4,1,2,3)\"\n",
    "encrpt_msg = \"rsiet%u!rsi%sietcyetcyu!cyu!r%\"\n",
    "\n",
    "print(\"Decrypt process\")\n",
    "plaintext = MTC_decrp(key,encrpt_msg)\n",
    "print(\"Key: \",key,\" Encrypt message: \",encrpt_msg)\n",
    "print(\"The plaintext: \",plaintext)"
   ]
  },
  {
   "cell_type": "markdown",
   "id": "blind-yeast",
   "metadata": {},
   "source": [
    "## You can try example"
   ]
  },
  {
   "cell_type": "markdown",
   "id": "studied-drive",
   "metadata": {},
   "source": [
    "Firstly, input the key.The key should be fomat as \"(#, #, #, #)\" where the # is the number. Also, numbers should not be duplicated.<br>\n",
    "Secondly, input the plaintext. In previouse example, % used to indicates the whitespcae."
   ]
  },
  {
   "cell_type": "code",
   "execution_count": 14,
   "id": "through-butterfly",
   "metadata": {},
   "outputs": [
    {
     "name": "stdout",
     "output_type": "stream",
     "text": [
      "Please input the key: (6,3,4,1,2,5)\n",
      "Please input the plaintext: I%really%enjoy%playing%games\n",
      "Encrypt process\n",
      "Key:  (6,3,4,1,2,5)  Plaintext:  I%really%enjoy%playing%games\n",
      "The encrypt message:  ljag%r%%neeepgsIloya%yyimanl%%\n"
     ]
    }
   ],
   "source": [
    "key = str(input(\"Please input the key: \"))\n",
    "msg = str(input(\"Please input the plaintext: \"))\n",
    "print(\"Encrypt process\")\n",
    "encrpt_msg = MTC_encrp(key, msg)\n",
    "print(\"Key: \",key,\" Plaintext: \", msg)\n",
    "print(\"The encrypt message: \",encrpt_msg)"
   ]
  },
  {
   "cell_type": "markdown",
   "id": "focused-accuracy",
   "metadata": {},
   "source": [
    "Firstly, input the key.The key should be fomat as \"(#, #, #, #)\" where the # is the number. Also, numbers should not be duplicated.<br>\n",
    "Secondly, input the encrypt message. In previouse example, % used to indicates the whitespcae."
   ]
  },
  {
   "cell_type": "code",
   "execution_count": 15,
   "id": "useful-japanese",
   "metadata": {},
   "outputs": [
    {
     "name": "stdout",
     "output_type": "stream",
     "text": [
      "Please input the key: (6,3,4,1,2,5)\n",
      "Please input the Encrypt message: ljag%r%%neeepgsIloya%yyimanl%%\n",
      "Decrypt process\n",
      "Key:  (6,3,4,1,2,5)  Encrypt message:  ljag%r%%neeepgsIloya%yyimanl%%\n",
      "The plaintext:  I%really%enjoy%playing%games%%\n"
     ]
    }
   ],
   "source": [
    "key = str(input(\"Please input the key: \"))\n",
    "encrpt_msg = str(input(\"Please input the Encrypt message: \"))\n",
    "\n",
    "print(\"Decrypt process\")\n",
    "plaintext = MTC_decrp(key,encrpt_msg)\n",
    "print(\"Key: \",key,\" Encrypt message: \",encrpt_msg)\n",
    "print(\"The plaintext: \",plaintext)"
   ]
  }
 ],
 "metadata": {
  "kernelspec": {
   "display_name": "Python 3",
   "language": "python",
   "name": "python3"
  },
  "language_info": {
   "codemirror_mode": {
    "name": "ipython",
    "version": 3
   },
   "file_extension": ".py",
   "mimetype": "text/x-python",
   "name": "python",
   "nbconvert_exporter": "python",
   "pygments_lexer": "ipython3",
   "version": "3.7.9"
  }
 },
 "nbformat": 4,
 "nbformat_minor": 5
}
