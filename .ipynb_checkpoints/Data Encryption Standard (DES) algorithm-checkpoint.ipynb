{
 "cells": [
  {
   "cell_type": "code",
   "execution_count": 1,
   "id": "latest-victoria",
   "metadata": {},
   "outputs": [],
   "source": [
    "# Define P1 and P2\n",
    "\n",
    "P1 = list([\n",
    "    56, 48, 40, 32, 24, 16, 8,\n",
    "    7, 15, 49, 41, 33, 25, 17,\n",
    "    9, 1, 23, 50, 26, 34, 42,\n",
    "    18, 10, 2, 31, 51, 43, 35,\n",
    "    47, 54, 46, 38, 30, 22, 14,\n",
    "    6, 55, 53, 45, 37, 29, 21,\n",
    "    13, 5, 39, 52, 44, 36, 28,\n",
    "    20, 12, 4, 27, 19, 11, 3\n",
    "])\n",
    "\n",
    "P2 = list([\n",
    "    14, 17, 11, 24, 1, 5, 3, 28,\n",
    "    15, 6, 43, 10, 23, 19, 12, 4,\n",
    "    26, 8, 16, 7, 27, 20, 13, 2,\n",
    "    41, 52, 31, 37, 47, 55, 30, 40,\n",
    "    51, 45, 33, 48, 44, 49, 39, 56,\n",
    "    34, 53, 46, 42, 50, 36, 29, 32,\n",
    "])\n",
    "\n",
    "IP = list([\n",
    "    58, 50, 42, 34, 26, 18, 10, 2,\n",
    "    60, 52, 44, 36, 28, 20, 12, 4,\n",
    "    62, 54, 46, 38, 30, 22, 14, 6,\n",
    "    64, 56, 48, 40, 32, 24, 16, 8,\n",
    "    57, 49, 41, 33, 25, 17, 9, 1,\n",
    "    59, 51, 43, 35, 27, 19, 11, 3,\n",
    "    61, 53, 45, 37, 29, 21, 13, 5,\n",
    "    63, 55, 47, 39, 31, 23, 15, 7,\n",
    "])\n",
    "\n",
    "# Define permutation tables\n",
    "IP_rev=list([\n",
    "    40, 8, 48, 16, 56, 24, 64, 32,\n",
    "    39, 7, 47, 15, 55, 23, 63, 31,\n",
    "    38, 6, 46, 14, 54, 22, 62, 30,\n",
    "    37, 5, 45, 13, 53, 21, 61, 29,\n",
    "    36, 4, 44, 12, 52, 20, 60, 28,\n",
    "    35, 3, 43, 11, 51, 19, 59, 27,\n",
    "    34, 2, 42, 10, 50, 18, 58, 26,\n",
    "    33, 1, 41, 9, 49, 17, 57, 25\n",
    "])"
   ]
  },
  {
   "cell_type": "code",
   "execution_count": 2,
   "id": "binary-chicago",
   "metadata": {},
   "outputs": [],
   "source": [
    "# Check input message\n",
    "def check_hex_str(msg, length):\n",
    "    \n",
    "    # Check length \n",
    "    if len(msg) != length:\n",
    "        return False\n",
    "    hex_chr = ['0','1','2','3',\n",
    "               '4','5','6','7',\n",
    "               '8','9','A','B',\n",
    "               'C','D','E','F',]\n",
    "    # Check hexadecimal\n",
    "    for i in msg.upper():\n",
    "        if i not in hex_chr:\n",
    "            return False\n",
    "    \n",
    "    \n",
    "    return True\n",
    "        "
   ]
  },
  {
   "cell_type": "code",
   "execution_count": 3,
   "id": "personal-riverside",
   "metadata": {},
   "outputs": [],
   "source": [
    "# Get new position from the permutation table\n",
    "def get_new_position(num, table):\n",
    "    \n",
    "    return table.index(num)+1"
   ]
  },
  {
   "cell_type": "code",
   "execution_count": 4,
   "id": "sunset-framing",
   "metadata": {},
   "outputs": [],
   "source": [
    "# Xor function for the Mangler function\n",
    "def xor(msg1, msg2):\n",
    "    result = list()\n",
    "    \n",
    "    if len(msg1) != len(msg2):\n",
    "        print(\"not equal\")\n",
    "        return\n",
    "    for i in range(len(msg1)):\n",
    "        if msg1[i] == msg2[i]:\n",
    "            result.append('0')\n",
    "        else:\n",
    "            result.append('1')\n",
    "    return result\n",
    "            "
   ]
  },
  {
   "cell_type": "code",
   "execution_count": 5,
   "id": "crazy-maintenance",
   "metadata": {},
   "outputs": [],
   "source": [
    "# Get keys with rounds\n",
    "def get_keys(key, turns):\n",
    "    \n",
    "    # Convert key to binary\n",
    "    key_mod = bin(int(key , 16))[2:].zfill(len(key)*4)\n",
    "\n",
    "    # Inital key permutation and divide into two 28-bit blocks\n",
    "    key_inital_permutation = list()\n",
    "    \n",
    "    # Apply P1 permutation\n",
    "    for i in range(len(P1)):\n",
    "        key_inital_permutation.append(key_mod[P1[i]-1])\n",
    "    \n",
    "    # Generate keys with given turns\n",
    "    result = list()\n",
    "    key_temp = key_inital_permutation.copy()\n",
    "    for _ in range(turns):\n",
    "\n",
    "        # Dividing into two parts and shift 1 bit\n",
    "        index = len(key_temp)//2\n",
    "             \n",
    "        left = key_temp[:index][1:]+list(key_temp[0])\n",
    "        right = key_temp[index:][1:]+list(key_temp[index])\n",
    "\n",
    "        # Combine keys\n",
    "        key_temp = left+right\n",
    "        \n",
    "        \n",
    "        # Apply P2 permutation\n",
    "        key = list()\n",
    "        for i in range(len(P2)):\n",
    "            key.append(key_temp[P2[i]-1])\n",
    "\n",
    "        # Append key\n",
    "        result.append(key)\n",
    "        \n",
    "    return result"
   ]
  },
  {
   "cell_type": "code",
   "execution_count": 6,
   "id": "informal-example",
   "metadata": {},
   "outputs": [],
   "source": [
    "# Encrypt process with given keys and rounds\n",
    "def encrypt(key, msg, turns):\n",
    "    \n",
    "    # Convert plaintext and key to binary\n",
    "    plaintext= bin(int(msg, 16))[2:].zfill(len(msg)*4)\n",
    "    \n",
    "    # Apply IP \n",
    "    plaintext_IP = list(['0']*len(plaintext))\n",
    "    for i in range(len(plaintext)):\n",
    "        new_index = get_new_position(i+1,IP)\n",
    "        plaintext_IP[new_index-1] = plaintext[i]\n",
    "    \n",
    "    # Ready for turns\n",
    "    plaintext_temp = plaintext_IP.copy()\n",
    "    keys = get_keys(key, turns)\n",
    "    \n",
    "    # For each rounds\n",
    "    for rounds in range(turns):\n",
    "        # Dividing in two parts\n",
    "        plaintext_temp_left = plaintext_temp[:len(plaintext_temp)//2]\n",
    "        plaintext_temp_right = plaintext_temp[len(plaintext_temp)//2:]\n",
    "\n",
    "        # Calculating Right + 1\n",
    "        B = plaintext_temp_left\n",
    "        # Get Rn, A, C\n",
    "        Rn = plaintext_temp_right+['0']*(len(keys[rounds])-len(plaintext_temp_left))\n",
    "        A = xor(Rn,keys[rounds])[:len(B)]\n",
    "        C = xor(A,B)\n",
    "        \n",
    "        plaintext_result = plaintext_temp_right + C\n",
    "        \n",
    "        # Updating values\n",
    "        plaintext_temp = plaintext_result\n",
    "    \n",
    "    # The final encrypted message\n",
    "    plaintext_final = list(['0']*len(plaintext_result))\n",
    "    \n",
    "    # Apply IP^(-1) \n",
    "    for i in range(len(plaintext_result)):\n",
    "        new_index = get_new_position(i+1,IP_rev)\n",
    "        plaintext_final[new_index-1] = plaintext_result[i]\n",
    "    \n",
    "    # Get encrypted message in hexadecimal\n",
    "    encrypt_msg = \"\".join(plaintext_final)\n",
    "    encrypt_msg = hex(int(encrypt_msg,2))[2:].zfill(len(msg))\n",
    "    \n",
    "    return encrypt_msg\n",
    "    "
   ]
  },
  {
   "cell_type": "code",
   "execution_count": 7,
   "id": "measured-picking",
   "metadata": {},
   "outputs": [],
   "source": [
    "# Decrypt process with given keys and rounds\n",
    "def decrypt(key, msg, turns):\n",
    "    \n",
    "    # Convert plaintext and key to binary\n",
    "    encrypt= bin(int(msg, 16))[2:].zfill(len(msg)*4)\n",
    "    \n",
    "    # Get keys\n",
    "    keys = get_keys(key, turns)\n",
    "    \n",
    "    # Apply IP\n",
    "    encrypt_temp = list(['0']*len(encrypt))\n",
    "    for i in range(len(encrypt)):\n",
    "        new_index = get_new_position(i+1,IP)\n",
    "        encrypt_temp[new_index-1] = encrypt[i]\n",
    "    \n",
    "    # Apply rounds\n",
    "    for rounds in range(turns):\n",
    "        left = encrypt_temp[:len(encrypt_temp)//2]\n",
    "        C = encrypt_temp[len(encrypt_temp)//2:]\n",
    "\n",
    "        Rn = list(left+['0']*(len(keys[-(rounds+1)])-len(left)))\n",
    "        A = xor(Rn, keys[-(rounds+1)])[:len(C)]\n",
    "        B = xor(C,A)\n",
    "        encrypt_temp = B+left\n",
    "        \n",
    "    # Apply IP^(-1)\n",
    "    decrypt_msg = list(['0']*len(encrypt_temp))\n",
    "    for i in range(len(encrypt_temp)):\n",
    "        new_index = get_new_position(i+1,IP_rev)\n",
    "        decrypt_msg[new_index-1] = encrypt_temp[i]\n",
    "        \n",
    "    # Get decrypted message in hexadecimal\n",
    "    decrypt_msg = \"\".join(decrypt_msg)\n",
    "    decrypt_msg=hex(int(decrypt_msg,2))[2:].zfill(len(msg))\n",
    "    \n",
    "    return decrypt_msg"
   ]
  },
  {
   "cell_type": "markdown",
   "id": "union-canadian",
   "metadata": {},
   "source": [
    "### Test the algorithm based on examples"
   ]
  },
  {
   "cell_type": "markdown",
   "id": "wired-softball",
   "metadata": {},
   "source": [
    "The encrypt message is in upper case"
   ]
  },
  {
   "cell_type": "code",
   "execution_count": 8,
   "id": "norwegian-people",
   "metadata": {},
   "outputs": [
    {
     "name": "stdout",
     "output_type": "stream",
     "text": [
      "Input message: C0B7A8D05F3A829C  Key: 14A7D67818CA18 Turns: 16\n",
      "The encrypt message is  87DA648849126704\n"
     ]
    }
   ],
   "source": [
    "# Text from A5 - encrypt process\n",
    "in_msg = \"C0B7A8D05F3A829C\"\n",
    "in_key = \"14A7D67818CA18\"\n",
    "turns = 16\n",
    "\n",
    "en_msg = encrypt(in_key, in_msg, turns)\n",
    "print(\"Input message:\", in_msg, \" Key:\", in_key, \"Turns:\", turns)\n",
    "print(\"The encrypt message is \", en_msg.upper())"
   ]
  },
  {
   "cell_type": "code",
   "execution_count": 9,
   "id": "regulation-swimming",
   "metadata": {},
   "outputs": [
    {
     "name": "stdout",
     "output_type": "stream",
     "text": [
      "Encrypt message: 87DA648849126704  Key: 14A7D67818CA18 Turns: 16\n",
      "The decrypt message is  C0B7A8D05F3A829C\n",
      "The input message equals to decrypt message is: True\n"
     ]
    }
   ],
   "source": [
    "# Decrypt process\n",
    "de_msg = decrypt(in_key, en_msg, turns)\n",
    "print(\"Encrypt message:\", en_msg.upper(), \" Key:\", in_key, \"Turns:\", turns)\n",
    "print(\"The decrypt message is \", de_msg.upper())\n",
    "print(\"The input message equals to decrypt message is:\", in_msg.upper()==de_msg.upper())"
   ]
  },
  {
   "cell_type": "markdown",
   "id": "dense-synthetic",
   "metadata": {},
   "source": [
    "### Test the algorithm with different examples"
   ]
  },
  {
   "cell_type": "markdown",
   "id": "wicked-blogger",
   "metadata": {},
   "source": [
    "1. "
   ]
  },
  {
   "cell_type": "code",
   "execution_count": 10,
   "id": "linear-injection",
   "metadata": {},
   "outputs": [
    {
     "name": "stdout",
     "output_type": "stream",
     "text": [
      "Input message: 5677d8D25F3a72bC  Key: 14b7a6c81dCA15 Turns: 16\n",
      "The encrypt message is  931E9B21891AF7A1\n"
     ]
    }
   ],
   "source": [
    "# Encrypt process\n",
    "in_msg = \"5677d8D25F3a72bC\"\n",
    "in_key = \"14b7a6c81dCA15\"\n",
    "turns = 16\n",
    "\n",
    "en_msg = encrypt(in_key, in_msg, turns)\n",
    "print(\"Input message:\", in_msg, \" Key:\", in_key, \"Turns:\", turns)\n",
    "print(\"The encrypt message is \", en_msg.upper())"
   ]
  },
  {
   "cell_type": "code",
   "execution_count": 11,
   "id": "written-event",
   "metadata": {},
   "outputs": [
    {
     "name": "stdout",
     "output_type": "stream",
     "text": [
      "Encrypt message: 931E9B21891AF7A1  Key: 14b7a6c81dCA15 Turns: 16\n",
      "The decrypt message is  5677D8D25F3A72BC\n",
      "The input message equals to decrypt message is: True\n"
     ]
    }
   ],
   "source": [
    "# Decrypt process\n",
    "de_msg = decrypt(in_key, en_msg, turns)\n",
    "print(\"Encrypt message:\", en_msg.upper(), \" Key:\", in_key, \"Turns:\", turns)\n",
    "print(\"The decrypt message is \", de_msg.upper())\n",
    "print(\"The input message equals to decrypt message is:\", in_msg.upper()==de_msg.upper())"
   ]
  },
  {
   "cell_type": "markdown",
   "id": "collective-mission",
   "metadata": {},
   "source": [
    "2. Test with different turns, the turns of encrypt process and decrypt process must be same"
   ]
  },
  {
   "cell_type": "code",
   "execution_count": 12,
   "id": "northern-reply",
   "metadata": {},
   "outputs": [
    {
     "name": "stdout",
     "output_type": "stream",
     "text": [
      "Input message: 5677d8D25F3a72bC  Key: 14b7a6c81dCA15 Turns: 5\n",
      "The encrypt message is  7E8599B74E169076\n"
     ]
    }
   ],
   "source": [
    "# Encrypt process\n",
    "in_msg = \"5677d8D25F3a72bC\"\n",
    "in_key = \"14b7a6c81dCA15\"\n",
    "turns = 5\n",
    "\n",
    "en_msg = encrypt(in_key, in_msg, turns)\n",
    "print(\"Input message:\", in_msg, \" Key:\", in_key, \"Turns:\", turns)\n",
    "print(\"The encrypt message is \", en_msg.upper())"
   ]
  },
  {
   "cell_type": "code",
   "execution_count": 13,
   "id": "needed-coating",
   "metadata": {},
   "outputs": [
    {
     "name": "stdout",
     "output_type": "stream",
     "text": [
      "Encrypt message: 7E8599B74E169076  Key: 14b7a6c81dCA15 Turns: 5\n",
      "The decrypt message is  5677D8D25F3A72BC\n",
      "The input message equals to decrypt message is: True\n"
     ]
    }
   ],
   "source": [
    "# Decrypt process\n",
    "de_msg = decrypt(in_key, en_msg, turns)\n",
    "print(\"Encrypt message:\", en_msg.upper(), \" Key:\", in_key, \"Turns:\", turns)\n",
    "print(\"The decrypt message is \", de_msg.upper())\n",
    "print(\"The input message equals to decrypt message is:\", in_msg.upper()==de_msg.upper())"
   ]
  },
  {
   "cell_type": "markdown",
   "id": "looking-prophet",
   "metadata": {},
   "source": [
    "3."
   ]
  },
  {
   "cell_type": "code",
   "execution_count": 14,
   "id": "artistic-think",
   "metadata": {},
   "outputs": [
    {
     "name": "stdout",
     "output_type": "stream",
     "text": [
      "Input message: 00058dddF3acc000  Key: 14b7a6c81dCA15 Turns: 10\n",
      "The encrypt message is  74C6318A26F6AB8D\n"
     ]
    }
   ],
   "source": [
    "# Encrypt process\n",
    "in_msg = \"00058dddF3acc000\"\n",
    "in_key = \"14b7a6c81dCA15\"\n",
    "turns = 10\n",
    "\n",
    "en_msg = encrypt(in_key, in_msg, turns)\n",
    "print(\"Input message:\", in_msg, \" Key:\", in_key, \"Turns:\", turns)\n",
    "print(\"The encrypt message is \", en_msg.upper())"
   ]
  },
  {
   "cell_type": "code",
   "execution_count": 15,
   "id": "phantom-atlantic",
   "metadata": {},
   "outputs": [
    {
     "name": "stdout",
     "output_type": "stream",
     "text": [
      "Encrypt message: 74C6318A26F6AB8D  Key: 14b7a6c81dCA15 Turns: 10\n",
      "The decrypt message is  00058DDDF3ACC000\n",
      "The input message equals to decrypt message is: True\n"
     ]
    }
   ],
   "source": [
    "# Decrypt process\n",
    "de_msg = decrypt(in_key, en_msg, turns)\n",
    "print(\"Encrypt message:\", en_msg.upper(), \" Key:\", in_key, \"Turns:\", turns)\n",
    "print(\"The decrypt message is \", de_msg.upper())\n",
    "print(\"The input message equals to decrypt message is:\", in_msg.upper()==de_msg.upper())"
   ]
  },
  {
   "cell_type": "markdown",
   "id": "martial-laundry",
   "metadata": {},
   "source": [
    "### Test the algorithm by yourself"
   ]
  },
  {
   "cell_type": "markdown",
   "id": "twenty-duration",
   "metadata": {},
   "source": [
    "For testing your own example, you need to input the message, key, and turns<br>\n",
    "message: Hexadecimal string with length 16 (64 bits)<br>\n",
    "key: Hexadecimal string with length 14 (48 bits)<br>\n",
    "turns: integer number<br>\n",
    "<br>\n",
    "After you input these values. Run next two blocks, it will print your encrypted message, and decrypt back to the plaintext."
   ]
  },
  {
   "cell_type": "code",
   "execution_count": 16,
   "id": "wrong-insulation",
   "metadata": {},
   "outputs": [
    {
     "name": "stdout",
     "output_type": "stream",
     "text": [
      "Please input the message in hexadecimal with a length of 16: aa\n",
      "Please input the message in hexadecimal with a length of 16: bb\n",
      "Please input the message in hexadecimal with a length of 16: 0123456789abcdef\n",
      "Please input the key in hexadecimal with a length of 14: cc\n",
      "Please input the key in hexadecimal with a length of 14: 00000001111111\n",
      "Please input rounds: 16\n"
     ]
    }
   ],
   "source": [
    "in_msg = input(\"Please input the message in hexadecimal with a length of 16: \")\n",
    "while(not check_hex_str(in_msg, 16)):\n",
    "    in_msg = input(\"Please input the message in hexadecimal with a length of 16: \")\n",
    "\n",
    "in_key = input(\"Please input the key in hexadecimal with a length of 14: \")\n",
    "while(not check_hex_str(in_key, 14)):\n",
    "    in_key = input(\"Please input the key in hexadecimal with a length of 14: \")\n",
    "\n",
    "turns = int(input(\"Please input rounds: \"))"
   ]
  },
  {
   "cell_type": "code",
   "execution_count": 17,
   "id": "recognized-champion",
   "metadata": {},
   "outputs": [
    {
     "name": "stdout",
     "output_type": "stream",
     "text": [
      "Input message: 0123456789abcdef  Key: 00000001111111 Turns: 16\n",
      "The encrypt message is  8EBBA68F8EF48639\n"
     ]
    }
   ],
   "source": [
    "# Encrypt process\n",
    "en_msg = encrypt(in_key, in_msg, turns)\n",
    "print(\"Input message:\", in_msg, \" Key:\", in_key, \"Turns:\", turns)\n",
    "print(\"The encrypt message is \", en_msg.upper())"
   ]
  },
  {
   "cell_type": "code",
   "execution_count": 18,
   "id": "boring-maximum",
   "metadata": {},
   "outputs": [
    {
     "name": "stdout",
     "output_type": "stream",
     "text": [
      "Encrypt message: 8EBBA68F8EF48639  Key: 00000001111111 Turns: 16\n",
      "The decrypt message is  0123456789ABCDEF\n",
      "The input message equals to decrypt message is: True\n"
     ]
    }
   ],
   "source": [
    "# Decrypt process\n",
    "de_msg = decrypt(in_key, en_msg, turns)\n",
    "print(\"Encrypt message:\", en_msg.upper(), \" Key:\", in_key, \"Turns:\", turns)\n",
    "print(\"The decrypt message is \", de_msg.upper())\n",
    "print(\"The input message equals to decrypt message is:\", in_msg.upper()==de_msg.upper())"
   ]
  },
  {
   "cell_type": "code",
   "execution_count": null,
   "id": "brazilian-regression",
   "metadata": {},
   "outputs": [],
   "source": []
  }
 ],
 "metadata": {
  "kernelspec": {
   "display_name": "Python 3",
   "language": "python",
   "name": "python3"
  },
  "language_info": {
   "codemirror_mode": {
    "name": "ipython",
    "version": 3
   },
   "file_extension": ".py",
   "mimetype": "text/x-python",
   "name": "python",
   "nbconvert_exporter": "python",
   "pygments_lexer": "ipython3",
   "version": "3.7.9"
  }
 },
 "nbformat": 4,
 "nbformat_minor": 5
}
