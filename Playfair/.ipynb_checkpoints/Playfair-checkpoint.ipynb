{
 "cells": [
  {
   "cell_type": "code",
   "execution_count": 1,
   "id": "altered-gibson",
   "metadata": {},
   "outputs": [],
   "source": [
    "import numpy as np"
   ]
  },
  {
   "cell_type": "markdown",
   "id": "psychological-construction",
   "metadata": {},
   "source": [
    "### Source code"
   ]
  },
  {
   "cell_type": "code",
   "execution_count": 2,
   "id": "authentic-colony",
   "metadata": {},
   "outputs": [],
   "source": [
    "# Used to modify the key to key matrix\n",
    "def get_key_matrix(key):\n",
    "\n",
    "    matrix= list()\n",
    "    #Make sure all key is in upper \n",
    "    for i in key.upper().replace(\" \",\"\"):\n",
    "        if i not in matrix:\n",
    "            matrix.append(i)\n",
    "    #exclude J\n",
    "    for i in [chr(i) for i in range(ord('A'),ord('Z')+1)]:\n",
    "        if i != 'J' and i not in matrix:\n",
    "            matrix.append(i)\n",
    "    \n",
    "    matrix = np.asarray(matrix).reshape((5,5))\n",
    "    return matrix\n",
    "\n",
    "# Used to convert pattern in encryption process\n",
    "def get_encrp_pattern(pattern, matrix):\n",
    "    \n",
    "    first_row = np.where(matrix==pattern[0])[0][0]\n",
    "    first_col = np.where(matrix==pattern[0])[1][0]\n",
    "\n",
    "    second_row = np.where(matrix==pattern[1])[0][0]\n",
    "    second_col = np.where(matrix==pattern[1])[1][0]\n",
    "    # Same col\n",
    "    if first_col == second_col:\n",
    "        first = matrix[(first_row+1)%5,first_col%5]\n",
    "        second = matrix[(second_row+1)%5,second_col%5]\n",
    "    # Same row\n",
    "    elif first_row == second_row:\n",
    "        first = matrix[first_row%5,(first_col+1)%5]\n",
    "        second = matrix[second_row%5,(second_col+1)%5]\n",
    "    # In square\n",
    "    else:\n",
    "        first = matrix[first_row%5,second_col%5]\n",
    "        second = matrix[second_row%5,first_col%5]\n",
    "    \n",
    "    # Return pattern\n",
    "    return first+second\n",
    "\n",
    "\n",
    "# Used to convert pattern in decryption process\n",
    "def get_decrp_pattern(pattern, matrix):\n",
    "    first_row = np.where(matrix==pattern[0])[0][0]\n",
    "    first_col = np.where(matrix==pattern[0])[1][0]\n",
    "\n",
    "    second_row = np.where(matrix==pattern[1])[0][0]\n",
    "    second_col = np.where(matrix==pattern[1])[1][0]\n",
    "    # Same col\n",
    "    if first_col == second_col:\n",
    "        first = matrix[(first_row-1)%5,first_col%5]\n",
    "        second = matrix[(second_row-1)%5,second_col%5]\n",
    "    # Same row\n",
    "    elif first_row == second_row:\n",
    "        first = matrix[first_row%5,(first_col-1)%5]\n",
    "        second = matrix[second_row%5,(second_col-1)%5]\n",
    "    # In square\n",
    "    else:\n",
    "        first = matrix[first_row%5,second_col%5]\n",
    "        second = matrix[second_row%5,first_col%5]\n",
    "    # Return pattern\n",
    "    return first+second\n",
    "\n",
    "\n",
    "# Playfair decryption process \n",
    "def playfair_decrp(key, text):\n",
    "    # Get key matrix\n",
    "    key_matrix=get_key_matrix(key)\n",
    "    \n",
    "    # Upper case\n",
    "    plaintext = text.upper().replace(\" \",\"\")\n",
    "    plaintext = list(plaintext)\n",
    "    \n",
    "    #Store pattern\n",
    "    temp = list()\n",
    "    while len(plaintext) != 0:\n",
    "    \n",
    "        temp.append([plaintext.pop(0), plaintext.pop(0)])\n",
    "    plaintext = temp\n",
    "    \n",
    "    result = list()\n",
    "    \n",
    "    # Get pattern\n",
    "    for i in plaintext:\n",
    "        result.append(get_decrp_pattern(i,key_matrix))\n",
    "        \n",
    "\n",
    "    return \" \".join(result)\n",
    "\n",
    "# Playfair ecryption process \n",
    "def playfair_encrp(key, text):\n",
    "    # Get key matrix\n",
    "    key_matrix=get_key_matrix(key)\n",
    "    \n",
    "    # Modifing the plaintext\n",
    "    plaintext = text.upper().replace(\" \",\"\").replace(\"J\",\"I\")\n",
    "    plaintext = list(plaintext)\n",
    "\n",
    "    \n",
    "    # Get pattern\n",
    "    temp = list()\n",
    "    while len(plaintext) != 0:\n",
    "        \n",
    "        # Make sure the last digit is not Z and add Z to the last \n",
    "        if len(plaintext) == 1 and plaintext[0] != 'Z':\n",
    "            temp.append([plaintext.pop(0),'Z'])\n",
    "            break\n",
    "        # If the last digit is Z, add X\n",
    "        elif len(plaintext) == 1 and plaintext[0] == 'Z':\n",
    "            temp.append([plaintext.pop(0),'X'])\n",
    "            break\n",
    "        \n",
    "        #Normal condition\n",
    "        if plaintext[0] != plaintext[1]:\n",
    "            temp.append([plaintext.pop(0), plaintext.pop(0)])\n",
    "        # If the character is 'X', then add Q instead\n",
    "        elif plaintext[0] == 'X':\n",
    "            temp.append([plaintext.pop(0) , 'Q'])\n",
    "        # else add 'X'\n",
    "        else:\n",
    "            temp.append([plaintext.pop(0) , 'X'])\n",
    "    plaintext = temp\n",
    "    \n",
    "    # Get result\n",
    "    result = list()\n",
    "    for i in plaintext:\n",
    "        result.append(get_encrp_pattern(i,key_matrix))\n",
    "    return \" \".join(result)"
   ]
  },
  {
   "cell_type": "markdown",
   "id": "therapeutic-passion",
   "metadata": {},
   "source": [
    "### Here are some  examples"
   ]
  },
  {
   "cell_type": "code",
   "execution_count": 3,
   "id": "retained-albany",
   "metadata": {},
   "outputs": [
    {
     "name": "stdout",
     "output_type": "stream",
     "text": [
      "Encrypt process\n",
      "Key:  SECURITY  Plaintext:  COME QUICKLY WE NEED HELP\n",
      "The encrypt message:  UN VT XS YS DP GC CM UV SF FU ML\n"
     ]
    }
   ],
   "source": [
    "key = \"SECURITY\"\n",
    "msg = \"COME QUICKLY WE NEED HELP\"\n",
    "\n",
    "print(\"Encrypt process\")\n",
    "encrpt_msg = playfair_encrp(key, msg)\n",
    "print(\"Key: \",key,\" Plaintext: \", msg)\n",
    "print(\"The encrypt message: \",encrpt_msg)"
   ]
  },
  {
   "cell_type": "code",
   "execution_count": 4,
   "id": "facial-calculation",
   "metadata": {},
   "outputs": [
    {
     "name": "stdout",
     "output_type": "stream",
     "text": [
      "Decrypt process\n",
      "Key:  SECURITY  Encrypt message:  UN VT XS YS DP GC CM UV SF FU ML\n",
      "The plaintext:  CO ME QU IC KL YW EN EX ED HE LP\n"
     ]
    }
   ],
   "source": [
    "key = \"SECURITY\"\n",
    "encrpt_msg = \"UN VT XS YS DP GC CM UV SF FU ML\"\n",
    "\n",
    "print(\"Decrypt process\")\n",
    "plaintext = playfair_decrp(key,encrpt_msg)\n",
    "print(\"Key: \",key,\" Encrypt message: \",encrpt_msg)\n",
    "print(\"The plaintext: \",plaintext)"
   ]
  },
  {
   "cell_type": "code",
   "execution_count": 5,
   "id": "powered-determination",
   "metadata": {},
   "outputs": [
    {
     "name": "stdout",
     "output_type": "stream",
     "text": [
      "Encrypt process\n",
      "Key:  APPLE  Plaintext:  I LIKE CODING\n",
      "The encrypt message:  MA KM AG KH KO HY\n"
     ]
    }
   ],
   "source": [
    "key = \"APPLE\"\n",
    "msg = \"I LIKE CODING\"\n",
    "\n",
    "print(\"Encrypt process\")\n",
    "encrpt_msg = playfair_encrp(key, msg)\n",
    "print(\"Key: \",key,\" Plaintext: \", msg)\n",
    "print(\"The encrypt message: \",encrpt_msg)"
   ]
  },
  {
   "cell_type": "code",
   "execution_count": 6,
   "id": "weird-repair",
   "metadata": {},
   "outputs": [
    {
     "name": "stdout",
     "output_type": "stream",
     "text": [
      "Decrypt process\n",
      "Key:  APPLE  Encrypt message:  MA KM AG KH KO HY\n",
      "The plaintext:  IL IK EC OD IN GZ\n"
     ]
    }
   ],
   "source": [
    "key = \"APPLE\"\n",
    "encrpt_msg = \"MA KM AG KH KO HY\"\n",
    "\n",
    "print(\"Decrypt process\")\n",
    "plaintext = playfair_decrp(key,encrpt_msg)\n",
    "print(\"Key: \",key,\" Encrypt message: \",encrpt_msg)\n",
    "print(\"The plaintext: \",plaintext)"
   ]
  },
  {
   "cell_type": "markdown",
   "id": "recognized-gardening",
   "metadata": {},
   "source": [
    "### You can test your own example"
   ]
  },
  {
   "cell_type": "markdown",
   "id": "enhanced-stack",
   "metadata": {},
   "source": [
    "Firstly, input the key.The key is a string, and it can be either uppercase and lowercase<br>\n",
    "Secondly, input the plaintext."
   ]
  },
  {
   "cell_type": "code",
   "execution_count": 7,
   "id": "forced-steam",
   "metadata": {},
   "outputs": [
    {
     "name": "stdout",
     "output_type": "stream",
     "text": [
      "Please input the key: HAOTIAN\n",
      "Please input the plaintext: I LIKE PLAYING COMPUTER GAMES\n",
      "Encrypt process\n",
      "Key:  HAOTIAN  Plaintext:  I LIKE PLAYING COMPUTER GAMES\n",
      "The encrypt message:  TM OM NU GT ZT BF KC FU SI CU QB UM UY\n"
     ]
    }
   ],
   "source": [
    "key = str(input(\"Please input the key: \"))\n",
    "msg = str(input(\"Please input the plaintext: \"))\n",
    "print(\"Encrypt process\")\n",
    "encrpt_msg = playfair_encrp(key, msg)\n",
    "print(\"Key: \",key,\" Plaintext: \", msg)\n",
    "print(\"The encrypt message: \",encrpt_msg)"
   ]
  },
  {
   "cell_type": "markdown",
   "id": "rapid-mechanism",
   "metadata": {},
   "source": [
    "Firstly, input the key.The key is a string, and it can be either uppercase and lowercase<br>\n",
    "Secondly, input the encrypt message. It can be either with whitespace or without whitespace"
   ]
  },
  {
   "cell_type": "code",
   "execution_count": 8,
   "id": "united-geography",
   "metadata": {},
   "outputs": [
    {
     "name": "stdout",
     "output_type": "stream",
     "text": [
      "Please input the key: HAOTIAN\n",
      "Please input the Encrypt message: TM OM NU GT ZT BF KC FU SI CU QB UM UY\n",
      "Decrypt process\n",
      "Key:  HAOTIAN  Encrypt message:  TM OM NU GT ZT BF KC FU SI CU QB UM UY\n",
      "The plaintext:  IL IK EP LA YI NG CO MP UT ER GA ME SZ\n"
     ]
    }
   ],
   "source": [
    "key = str(input(\"Please input the key: \"))\n",
    "encrpt_msg = str(input(\"Please input the Encrypt message: \"))\n",
    "\n",
    "print(\"Decrypt process\")\n",
    "plaintext = playfair_decrp(key,encrpt_msg)\n",
    "print(\"Key: \",key,\" Encrypt message: \",encrpt_msg)\n",
    "print(\"The plaintext: \",plaintext)"
   ]
  }
 ],
 "metadata": {
  "kernelspec": {
   "display_name": "Python 3",
   "language": "python",
   "name": "python3"
  },
  "language_info": {
   "codemirror_mode": {
    "name": "ipython",
    "version": 3
   },
   "file_extension": ".py",
   "mimetype": "text/x-python",
   "name": "python",
   "nbconvert_exporter": "python",
   "pygments_lexer": "ipython3",
   "version": "3.7.9"
  }
 },
 "nbformat": 4,
 "nbformat_minor": 5
}
